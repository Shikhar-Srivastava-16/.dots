{
  "nbformat": 4,
  "nbformat_minor": 0,
  "metadata": {
    "colab": {
      "name": "Meshroom + GPU for Photogrammetry",
      "provenance": [],
      "gpuType": "T4",
      "include_colab_link": true
    },
    "kernelspec": {
      "name": "python3",
      "display_name": "Python 3"
    },
    "accelerator": "GPU"
  },
  "cells": [
    {
      "cell_type": "markdown",
      "metadata": {
        "id": "view-in-github",
        "colab_type": "text"
      },
      "source": [
        "<a href=\"https://colab.research.google.com/github/Shikhar-Srivastava-16/.dots/blob/main/Meshroom_%2B_GPU_for_Photogrammetry.ipynb\" target=\"_parent\"><img src=\"https://colab.research.google.com/assets/colab-badge.svg\" alt=\"Open In Colab\"/></a>"
      ]
    },
    {
      "cell_type": "markdown",
      "metadata": {
        "id": "GV0aPgMN8PWY"
      },
      "source": [
        "(from https://gist.github.com/donmahallem/22134574382b7bd8a67c1550734fcfc4 . Thanks to Ryan Baumann for sharing the gist on Mastodon.)\n",
        "\n",
        "Make sure you have GPU runtime. If you run the code below and receive the error, 'GPU device not found', click on 'Runtime' in the menu at top, 'change runtime type', >> 'select hardware acceleration' and select GPU. Then re-run the code to make sure it's running."
      ]
    },
    {
      "cell_type": "code",
      "metadata": {
        "id": "Fn4dL7Sl8Fca",
        "colab": {
          "base_uri": "https://localhost:8080/"
        },
        "outputId": "570cb48a-3f97-4e96-80c0-22d8bfd92a01"
      },
      "source": [
        "import tensorflow as tf\n",
        "device_name = tf.test.gpu_device_name()\n",
        "if device_name != '/device:GPU:0':\n",
        "  raise SystemError('GPU device not found')\n",
        "print('Found GPU at: {}'.format(device_name))"
      ],
      "execution_count": 1,
      "outputs": [
        {
          "output_type": "stream",
          "name": "stdout",
          "text": [
            "Found GPU at: /device:GPU:0\n"
          ]
        }
      ]
    },
    {
      "cell_type": "markdown",
      "metadata": {
        "id": "0eYTT15F8kqc"
      },
      "source": [
        "Get Meshroom and some data."
      ]
    },
    {
      "cell_type": "code",
      "metadata": {
        "id": "qetKvXVK8vWI",
        "colab": {
          "base_uri": "https://localhost:8080/"
        },
        "outputId": "73f43822-b1cb-4f09-d528-5e991faf3849"
      },
      "source": [
        "# IF YOU HAVE A FOLDER WITH IMAGES IN YOUR GOOGLE DRIVE\n",
        "# you can connect this notebook to your drive by using\n",
        "# this code:\n",
        "from google.colab import drive\n",
        "drive.mount('/content/drive')\n",
        "\n",
        "# and then your files will be available. You can click the\n",
        "# > at top left and select 'files' to see the file tree.\n",
        "# right-clicking on a file or folder will allow you to copy the full path\n",
        "# but nb if you then paste that path into any code, you need to remove the\n",
        "# `/content/` part of the path."
      ],
      "execution_count": 2,
      "outputs": [
        {
          "output_type": "stream",
          "name": "stdout",
          "text": [
            "Mounted at /content/drive\n"
          ]
        }
      ]
    },
    {
      "cell_type": "code",
      "metadata": {
        "id": "S6ILQQdD9TVU"
      },
      "source": [
        "# or you can run this cell to upload your files.\n",
        "\n",
        "from google.colab import files\n",
        "\n",
        "# optional upload for the meshfile\n",
        "\n",
        "uploaded = files.upload()\n",
        "\n",
        "for fn in uploaded.keys():\n",
        "    print('User uploaded file \"{name}\" with length {length} bytes'.format( name=fn, length=len(uploaded[fn])))"
      ],
      "execution_count": null,
      "outputs": []
    },
    {
      "cell_type": "markdown",
      "metadata": {
        "id": "Uw4xpkaiPZZd"
      },
      "source": [
        "If you upload files, make sure to move them into their own folder. Either upload as a zip file and then use `!unzip folder.zip` or use eg. `mv *.jpg /my_dataset/`"
      ]
    },
    {
      "cell_type": "code",
      "source": [
        "!ls /content/drive/MyDrive/photos/jpgs"
      ],
      "metadata": {
        "id": "GVMZ-dhCCf8a",
        "outputId": "f4030100-a37d-48da-bd9c-04684d5b6f8c",
        "colab": {
          "base_uri": "https://localhost:8080/"
        }
      },
      "execution_count": 6,
      "outputs": [
        {
          "output_type": "stream",
          "name": "stdout",
          "text": [
            "Burton_0749_neg_res1800ppi_8-bit.jpg  Burton_0758_neg_res1200ppi_8-bit.jpg\n",
            "Burton_0750_neg_res1200ppi_8-bit.jpg  Burton_0759_neg_res1200ppi_8-bit.jpg\n",
            "Burton_0751_neg_res1200ppi_8-bit.jpg  Burton_0760_neg_res1200ppi_8-bit.jpg\n",
            "Burton_0752_neg_res1200ppi_8-bit.jpg  Burton_1545#6000.jpg\n",
            "Burton_0753_neg_res1200ppi_8-bit.jpg  Burton_1617_neg_film_res1800ppi_8-bit.jpg\n",
            "Burton_0754_neg_res1200ppi_8-bit.jpg  Burton_1618_neg_film_res1800ppi_8-bit.jpg\n",
            "Burton_0755_neg_res1200ppi_8-bit.jpg  Burton_1699#6000.jpg\n",
            "Burton_0757_neg_res1200ppi_8-bit.jpg  Burton_1700#6000.jpg\n"
          ]
        }
      ]
    },
    {
      "cell_type": "code",
      "metadata": {
        "id": "ZqS-MIDLP1r1",
        "colab": {
          "base_uri": "https://localhost:8080/"
        },
        "outputId": "789116c5-4b5f-45cb-cb51-ec91ac8df1fd"
      },
      "source": [
        "!mkdir my_dataset\n",
        "!mv /content/drive/MyDrive/photos/jpgs/* my_dataset/"
      ],
      "execution_count": 7,
      "outputs": [
        {
          "output_type": "stream",
          "name": "stdout",
          "text": [
            "mkdir: cannot create directory ‘my_dataset’: File exists\n"
          ]
        }
      ]
    },
    {
      "cell_type": "code",
      "metadata": {
        "id": "fuZhBKUA8pm0",
        "colab": {
          "base_uri": "https://localhost:8080/"
        },
        "outputId": "23466ff9-8403-42f2-8b81-823424c5d166"
      },
      "source": [
        "# or you can grab some data from AliceVision for the time being.\n",
        "!git clone https://github.com/Shikhar-Srivastava-16\n"
      ],
      "execution_count": 3,
      "outputs": [
        {
          "output_type": "stream",
          "name": "stdout",
          "text": [
            "Cloning into 'dataset_buddha'...\n",
            "remote: Enumerating objects: 537, done.\u001b[K\n",
            "remote: Total 537 (delta 0), reused 0 (delta 0), pack-reused 537 (from 1)\u001b[K\n",
            "Receiving objects: 100% (537/537), 762.00 MiB | 44.68 MiB/s, done.\n",
            "Resolving deltas: 100% (147/147), done.\n",
            "Updating files: 100% (223/223), done.\n"
          ]
        }
      ]
    },
    {
      "cell_type": "code",
      "source": [
        "from google.colab import drive\n",
        "drive.mount('/content/drive')"
      ],
      "metadata": {
        "id": "4r5lvdG2_lkA"
      },
      "execution_count": null,
      "outputs": []
    },
    {
      "cell_type": "code",
      "metadata": {
        "id": "8qj3sOUyPQ37"
      },
      "source": [
        "# get Meshroom\n",
        "#!wget -N https://github.com/alicevision/meshroom/releases/download/v2023.3.0/Meshroom-2023.3.0-linux.tar.gz\n",
        "!mkdir meshroom\n",
        "!tar xzf Meshroom-2023.3.0-linux.tar.gz -C ./meshroom"
      ],
      "execution_count": 19,
      "outputs": []
    },
    {
      "cell_type": "markdown",
      "metadata": {
        "id": "Lop_Mdde9oaH"
      },
      "source": [
        "# Meshing!"
      ]
    },
    {
      "cell_type": "markdown",
      "metadata": {
        "id": "YJFWpW4AQOpR"
      },
      "source": [
        "Make sure that the next line points to the correct folder, eg my_dataset if you uploaded your own, or the dataset_buddha if you used wget to get the Buddha pictures from Alicevision. (and the line below would be chanted eg `--input ./dataset_buddha/buddha --output`)"
      ]
    },
    {
      "cell_type": "code",
      "metadata": {
        "id": "8Bnjh20K9aJm",
        "colab": {
          "base_uri": "https://localhost:8080/"
        },
        "outputId": "700a3d9a-4e97-4ea8-c2a5-bbdd6a7a170b"
      },
      "source": [
        "!mkdir ./object_out\n",
        "!./meshroom/Meshroom-2023.3.0/meshroom_batch --input ./my_dataset/ --output ./object_out"
      ],
      "execution_count": null,
      "outputs": [
        {
          "output_type": "stream",
          "name": "stdout",
          "text": [
            "mkdir: cannot create directory ‘./object_out’: File exists\n",
            "[2025-06-30 18:53:19.812290] [0x0000789ee8a3b000] [trace]   Embedded OCIO configuration file: '/content/meshroom/Meshroom-2023.3.0/aliceVision/share/aliceVision/config.ocio' found.\n",
            "Program called with the following parameters:\n",
            " * allowSingleView = 1\n",
            " * allowedCameraModels = \"pinhole,radial1,radial3,brown,fisheye4,fisheye1,3deanamorphic4,3deradial4,3declassicld\"\n",
            " * colorProfileDatabase = \"\" (default)\n",
            " * defaultCameraModel = \"\" (default)\n",
            " * defaultFieldOfView = 45\n",
            " * defaultFocalLength = -1 (default)\n",
            " * defaultFocalRatio = 1 (default)\n",
            " * defaultOffsetX = 0 (default)\n",
            " * defaultOffsetY = 0 (default)\n",
            " * errorOnMissingColorProfile = 1 (default)\n",
            " * groupCameraFallback =  Unknown Type \"20EGroupCameraFallback\"\n",
            " * imageFolder = \"\" (default)\n",
            " * input = \"/tmp/tmprmnoz6j2/CameraInit/961e54591174ec5a2457c66da8eadc0cb03d89ba/viewpoints.sfm\"\n",
            " * lensCorrectionProfileInfo = \"\"\n",
            " * lensCorrectionProfileSearchIgnoreCameraModel = 1\n",
            " * maxCoresAvailable =  Unknown Type \"j\" (default)\n",
            " * maxMemoryAvailable = 18446744073709551615 (default)\n",
            " * output = \"/tmp/tmprmnoz6j2/CameraInit/961e54591174ec5a2457c66da8eadc0cb03d89ba/cameraInit.sfm\"\n",
            " * rawColorInterpretation =  Unknown Type \"N11aliceVision5image23ERawColorInterpretationE\"\n",
            " * sensorDatabase = \"/content/meshroom/Meshroom-2023.3.0/aliceVision/share/aliceVision/cameraSensors.db\"\n",
            " * verboseLevel = \"info\"\n",
            " * viewIdMethod =  Unknown Type \"N11aliceVision9sfmDataIO13EViewIdMethodE\"\n",
            " * viewIdRegex = \".*?(\\d+)\" (default)\n",
            "\n",
            "Hardware : \n",
            "\tDetected core count : 2\n",
            "\tOpenMP will use 2 cores\n",
            "\tDetected available memory : 11809 Mo\n",
            "\n",
            "[18:53:19.833604][warning] Image 'Burton_1700#6000.jpg' focal length (in mm) metadata is missing.\n",
            "Can't compute focal length, use default.\n",
            "[18:53:19.833628][warning] Image 'Burton_1618_neg_film_res1800ppi_8-bit.jpg' focal length (in mm) metadata is missing.\n",
            "Can't compute focal length, use default.\n",
            "[18:53:19.835102][warning] Image 'Burton_0759_neg_res1200ppi_8-bit.jpg' focal length (in mm) metadata is missing.\n",
            "Can't compute focal length, use default.\n",
            "[18:53:19.835102][warning] Image 'Burton_0751_neg_res1200ppi_8-bit.jpg' focal length (in mm) metadata is missing.\n",
            "Can't compute focal length, use default.\n",
            "[18:53:19.836517][warning] Image 'Burton_0752_neg_res1200ppi_8-bit.jpg' focal length (in mm) metadata is missing.\n",
            "Can't compute focal length, use default.\n",
            "[18:53:19.836517][warning] Image 'Burton_1699#6000.jpg' focal length (in mm) metadata is missing.\n",
            "Can't compute focal length, use default.\n",
            "[18:53:19.837897][warning] Image 'Burton_0753_neg_res1200ppi_8-bit.jpg' focal length (in mm) metadata is missing.\n",
            "Can't compute focal length, use default.\n",
            "[18:53:19.837897][warning] Image 'Burton_0754_neg_res1200ppi_8-bit.jpg' focal length (in mm) metadata is missing.\n",
            "Can't compute focal length, use default.\n",
            "[18:53:19.839254][warning] Image 'Burton_0757_neg_res1200ppi_8-bit.jpg' focal length (in mm) metadata is missing.\n",
            "Can't compute focal length, use default.\n",
            "[18:53:19.839260][warning] Image 'Burton_0749_neg_res1800ppi_8-bit.jpg' focal length (in mm) metadata is missing.\n",
            "Can't compute focal length, use default.\n",
            "[18:53:19.840776][warning] Image 'Burton_0750_neg_res1200ppi_8-bit.jpg' focal length (in mm) metadata is missing.\n",
            "Can't compute focal length, use default.\n",
            "[18:53:19.840776][warning] Image 'Burton_1545#6000.jpg' focal length (in mm) metadata is missing.\n",
            "Can't compute focal length, use default.\n",
            "[18:53:19.842173][warning] Image 'Burton_0760_neg_res1200ppi_8-bit.jpg' focal length (in mm) metadata is missing.\n",
            "Can't compute focal length, use default.\n",
            "[18:53:19.842176][warning] Image 'Burton_0755_neg_res1200ppi_8-bit.jpg' focal length (in mm) metadata is missing.\n",
            "Can't compute focal length, use default.\n",
            "[18:53:19.843583][warning] Image 'Burton_0758_neg_res1200ppi_8-bit.jpg' focal length (in mm) metadata is missing.\n",
            "Can't compute focal length, use default.\n",
            "[18:53:19.843665][warning] Image 'Burton_1617_neg_film_res1800ppi_8-bit.jpg' focal length (in mm) metadata is missing.\n",
            "Can't compute focal length, use default.\n",
            "[18:53:19.843844][warning] Some image(s) have no serial number to identify the camera/lens device.\n",
            "This makes it impossible to correctly group the images by device if you have used multiple identical (same model) camera devices.\n",
            "The reconstruction will assume that only one device has been used, so if 2 images share the same focal length approximation they will share the same internal camera parameters.\n",
            "16 image(s) are concerned.\n",
            "[18:53:19.848580][info] CameraInit report:\n",
            "\t- # Views: 16\n",
            "\t   - # with focal length initialization (from metadata): 16\n",
            "\t   - # without metadata: 16\n",
            "\t   - # with DCP color calibration (raw images only): 0\n",
            "\t   - # with LCP lens distortion initialization: 0\n",
            "\t   - # with LCP vignetting calibration: 0\n",
            "\t   - # with LCP chromatic aberration correction models: 0\n",
            "\t- # Cameras Intrinsics: 16\n",
            "Nodes to execute:  ['CameraInit_1', 'FeatureExtraction_1', 'ImageMatching_1', 'FeatureMatching_1', 'StructureFromMotion_1', 'PrepareDenseScene_1', 'DepthMap_1', 'DepthMapFilter_1', 'Meshing_1', 'MeshFiltering_1', 'Texturing_1', 'Publish_1']\n",
            "\n",
            "[1/12] CameraInit\n",
            " - commandLine: aliceVision_cameraInit  --sensorDatabase \"/content/meshroom/Meshroom-2023.3.0/aliceVision/share/aliceVision/cameraSensors.db\" --lensCorrectionProfileInfo \"${ALICEVISION_LENS_PROFILE_INFO}\" --lensCorrectionProfileSearchIgnoreCameraModel True --defaultFieldOfView 45.0 --groupCameraFallback folder --allowedCameraModels pinhole,radial1,radial3,brown,fisheye4,fisheye1,3deanamorphic4,3deradial4,3declassicld --rawColorInterpretation LibRawWhiteBalancing --viewIdMethod metadata --verboseLevel info --output \"/tmp/MeshroomCache/CameraInit/518eefba02dd472ce0c4d5af6e34e902c6aeacd9/cameraInit.sfm\" --allowSingleView 1 --input \"/tmp/MeshroomCache/CameraInit/518eefba02dd472ce0c4d5af6e34e902c6aeacd9/viewpoints.sfm\"\n",
            " - logFile: /tmp/MeshroomCache/CameraInit/518eefba02dd472ce0c4d5af6e34e902c6aeacd9/log\n",
            "\n",
            "[2/12] FeatureExtraction\n",
            " - commandLine: aliceVision_featureExtraction  --input \"/tmp/MeshroomCache/CameraInit/518eefba02dd472ce0c4d5af6e34e902c6aeacd9/cameraInit.sfm\" --masksFolder \"\" --maskExtension png --maskInvert False --describerTypes dspsift --describerPreset normal --describerQuality normal --contrastFiltering GridSort --gridFiltering True --workingColorSpace sRGB --forceCpuExtraction True --maxThreads 0 --verboseLevel info --output \"/tmp/MeshroomCache/FeatureExtraction/9bef242694b543e31764a3fbce2f0ddc293c9433\" --rangeStart 0 --rangeSize 40\n",
            " - logFile: /tmp/MeshroomCache/FeatureExtraction/9bef242694b543e31764a3fbce2f0ddc293c9433/0.log\n",
            "\n",
            "[3/12] ImageMatching\n",
            " - commandLine: aliceVision_imageMatching  --input \"/tmp/MeshroomCache/CameraInit/518eefba02dd472ce0c4d5af6e34e902c6aeacd9/cameraInit.sfm\" --featuresFolders \"/tmp/MeshroomCache/FeatureExtraction/9bef242694b543e31764a3fbce2f0ddc293c9433\" --method SequentialAndVocabularyTree --tree \"/content/meshroom/Meshroom-2023.3.0/aliceVision/share/aliceVision/vlfeat_K80L3.SIFT.tree\" --weights \"\" --minNbImages 200 --maxDescriptors 500 --nbMatches 40 --nbNeighbors 5 --verboseLevel info --output \"/tmp/MeshroomCache/ImageMatching/1085cb1807e98c01b3b929e086c6adf31bda8779/imageMatches.txt\"\n",
            " - logFile: /tmp/MeshroomCache/ImageMatching/1085cb1807e98c01b3b929e086c6adf31bda8779/log\n",
            "\n",
            "[4/12] FeatureMatching\n",
            " - commandLine: aliceVision_featureMatching  --input \"/tmp/MeshroomCache/CameraInit/518eefba02dd472ce0c4d5af6e34e902c6aeacd9/cameraInit.sfm\" --featuresFolders \"/tmp/MeshroomCache/FeatureExtraction/9bef242694b543e31764a3fbce2f0ddc293c9433\" --imagePairsList \"/tmp/MeshroomCache/ImageMatching/1085cb1807e98c01b3b929e086c6adf31bda8779/imageMatches.txt\" --describerTypes dspsift --photometricMatchingMethod ANN_L2 --geometricEstimator acransac --geometricFilterType fundamental_matrix --distanceRatio 0.8 --maxIteration 2048 --geometricError 0.0 --knownPosesGeometricErrorMax 5.0 --minRequired2DMotion -1.0 --maxMatches 0 --savePutativeMatches False --crossMatching False --guidedMatching False --matchFromKnownCameraPoses False --exportDebugFiles False --verboseLevel info --output \"/tmp/MeshroomCache/FeatureMatching/c10f81b9f52b0d9d510b5610cf1bf747cd41b0b3\" --rangeStart 0 --rangeSize 20\n",
            " - logFile: /tmp/MeshroomCache/FeatureMatching/c10f81b9f52b0d9d510b5610cf1bf747cd41b0b3/0.log\n",
            "\n",
            "[5/12] StructureFromMotion\n",
            " - commandLine: aliceVision_incrementalSfM  --input \"/tmp/MeshroomCache/CameraInit/518eefba02dd472ce0c4d5af6e34e902c6aeacd9/cameraInit.sfm\" --featuresFolders \"/tmp/MeshroomCache/FeatureExtraction/9bef242694b543e31764a3fbce2f0ddc293c9433\" --matchesFolders \"/tmp/MeshroomCache/FeatureMatching/c10f81b9f52b0d9d510b5610cf1bf747cd41b0b3\" --describerTypes dspsift --localizerEstimator acransac --observationConstraint Scale --localizerEstimatorMaxIterations 4096 --localizerEstimatorError 0.0 --lockScenePreviouslyReconstructed False --useLocalBA True --localBAGraphDistance 1 --nbFirstUnstableCameras 30 --maxImagesPerGroup 30 --bundleAdjustmentMaxOutliers 50 --maxNumberOfMatches 0 --minNumberOfMatches 0 --minInputTrackLength 2 --minNumberOfObservationsForTriangulation 2 --minAngleForTriangulation 3.0 --minAngleForLandmark 2.0 --maxReprojectionError 4.0 --minAngleInitialPair 5.0 --maxAngleInitialPair 40.0 --useOnlyMatchesFromInputFolder False --useRigConstraint True --rigMinNbCamerasForCalibration 20 --lockAllIntrinsics False --minNbCamerasToRefinePrincipalPoint 3 --filterTrackForks False --computeStructureColor True --useAutoTransform True --initialPairA \"\" --initialPairB \"\" --interFileExtension .abc --logIntermediateSteps False --verboseLevel info --output \"/tmp/MeshroomCache/StructureFromMotion/190ece16bda3569c5656387a98f99b7a33a8cf45/sfm.abc\" --outputViewsAndPoses \"/tmp/MeshroomCache/StructureFromMotion/190ece16bda3569c5656387a98f99b7a33a8cf45/cameras.sfm\" --extraInfoFolder \"/tmp/MeshroomCache/StructureFromMotion/190ece16bda3569c5656387a98f99b7a33a8cf45\"\n",
            " - logFile: /tmp/MeshroomCache/StructureFromMotion/190ece16bda3569c5656387a98f99b7a33a8cf45/log\n",
            "\n",
            "[6/12] PrepareDenseScene\n",
            " - commandLine: aliceVision_prepareDenseScene  --input \"/tmp/MeshroomCache/StructureFromMotion/190ece16bda3569c5656387a98f99b7a33a8cf45/sfm.abc\" --maskExtension png --outputFileType exr --saveMetadata True --saveMatricesTxtFiles False --evCorrection False --verboseLevel info --output \"/tmp/MeshroomCache/PrepareDenseScene/cabbbaaeecf12cf8bce22bab33eb7bf6de42844f\" --rangeStart 0 --rangeSize 40\n",
            " - logFile: /tmp/MeshroomCache/PrepareDenseScene/cabbbaaeecf12cf8bce22bab33eb7bf6de42844f/0.log\n",
            "\n",
            "[7/12](1/2) DepthMap\n",
            " - commandLine: aliceVision_depthMapEstimation  --input \"/tmp/MeshroomCache/StructureFromMotion/190ece16bda3569c5656387a98f99b7a33a8cf45/sfm.abc\" --imagesFolder \"/tmp/MeshroomCache/PrepareDenseScene/cabbbaaeecf12cf8bce22bab33eb7bf6de42844f\" --downscale 2 --minViewAngle 2.0 --maxViewAngle 70.0 --tileBufferWidth 1024 --tileBufferHeight 1024 --tilePadding 64 --autoAdjustSmallImage True --chooseTCamsPerTile True --maxTCams 10 --sgmScale 2 --sgmStepXY 2 --sgmStepZ -1 --sgmMaxTCamsPerTile 4 --sgmWSH 4 --sgmUseSfmSeeds True --sgmSeedsRangeInflate 0.2 --sgmDepthThicknessInflate 0.0 --sgmMaxSimilarity 1.0 --sgmGammaC 5.5 --sgmGammaP 8.0 --sgmP1 10.0 --sgmP2Weighting 100.0 --sgmMaxDepths 1500 --sgmFilteringAxes \"YX\" --sgmDepthListPerTile True --sgmUseConsistentScale False --refineEnabled True --refineScale 1 --refineStepXY 1 --refineMaxTCamsPerTile 4 --refineSubsampling 10 --refineHalfNbDepths 15 --refineWSH 3 --refineSigma 15.0 --refineGammaC 15.5 --refineGammaP 8.0 --refineInterpolateMiddleDepth False --refineUseConsistentScale False --colorOptimizationEnabled True --colorOptimizationNbIterations 100 --sgmUseCustomPatchPattern False --refineUseCustomPatchPattern False --exportIntermediateDepthSimMaps False --exportIntermediateNormalMaps False --exportIntermediateVolumes False --exportIntermediateCrossVolumes False --exportIntermediateTopographicCutVolumes False --exportIntermediateVolume9pCsv False --exportTilePattern False --nbGPUs 0 --verboseLevel info --output \"/tmp/MeshroomCache/DepthMap/6f5f60045217c3fc4d8828575cf4c014f448bb4b\" --rangeStart 0 --rangeSize 12\n",
            " - logFile: /tmp/MeshroomCache/DepthMap/6f5f60045217c3fc4d8828575cf4c014f448bb4b/0.log\n"
          ]
        }
      ]
    },
    {
      "cell_type": "code",
      "metadata": {
        "id": "wtz12QNl930T"
      },
      "source": [
        "# zip and download the results!\n",
        "from google.colab import files\n",
        "!zip -r meshobject.zip ./object_out\n",
        "!zip -r cache.zip /tmp/MeshroomCache\n",
        "files.download('meshobject.zip')\n",
        "files.download('cache.zip')"
      ],
      "execution_count": null,
      "outputs": []
    },
    {
      "cell_type": "code",
      "source": [],
      "metadata": {
        "id": "dNl0K-cE38Go"
      },
      "execution_count": null,
      "outputs": []
    }
  ]
}